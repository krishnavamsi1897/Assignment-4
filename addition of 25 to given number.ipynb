{
 "cells": [
  {
   "cell_type": "code",
   "execution_count": 5,
   "id": "683bc750",
   "metadata": {},
   "outputs": [],
   "source": [
    "l = 10"
   ]
  },
  {
   "cell_type": "code",
   "execution_count": 6,
   "id": "b7628b51",
   "metadata": {},
   "outputs": [
    {
     "data": {
      "text/plain": [
       "<function __main__.<lambda>(x)>"
      ]
     },
     "execution_count": 6,
     "metadata": {},
     "output_type": "execute_result"
    }
   ],
   "source": [
    "lambda x:x+25"
   ]
  },
  {
   "cell_type": "code",
   "execution_count": 7,
   "id": "4cc86756",
   "metadata": {},
   "outputs": [],
   "source": [
    "def num(x):\n",
    "    return x+25"
   ]
  },
  {
   "cell_type": "code",
   "execution_count": 8,
   "id": "ac324f9f",
   "metadata": {},
   "outputs": [
    {
     "name": "stdout",
     "output_type": "stream",
     "text": [
      "35\n"
     ]
    }
   ],
   "source": [
    "print(num(l))"
   ]
  },
  {
   "cell_type": "code",
   "execution_count": null,
   "id": "42eb7b27",
   "metadata": {},
   "outputs": [],
   "source": []
  }
 ],
 "metadata": {
  "kernelspec": {
   "display_name": "Python 3 (ipykernel)",
   "language": "python",
   "name": "python3"
  },
  "language_info": {
   "codemirror_mode": {
    "name": "ipython",
    "version": 3
   },
   "file_extension": ".py",
   "mimetype": "text/x-python",
   "name": "python",
   "nbconvert_exporter": "python",
   "pygments_lexer": "ipython3",
   "version": "3.9.7"
  }
 },
 "nbformat": 4,
 "nbformat_minor": 5
}
